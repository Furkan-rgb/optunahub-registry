{
 "cells": [
  {
   "cell_type": "code",
   "execution_count": 3,
   "id": "0f3e757d",
   "metadata": {},
   "outputs": [],
   "source": [
    "import optuna\n",
    "import optunahub\n",
    "module = optunahub.load_module(\"samplers/mvas\")"
   ]
  },
  {
   "cell_type": "code",
   "execution_count": 4,
   "id": "713b0d93",
   "metadata": {},
   "outputs": [],
   "source": [
    "def objective(trial: optuna.trial.Trial) -> float:\n",
    "    x = trial.suggest_float(\"x\", 0.0, 1.0)\n",
    "    w = trial.suggest_float(\"w\", 0.0, 1.0)\n",
    "    return x**2 + w**2"
   ]
  },
  {
   "cell_type": "code",
   "execution_count": 5,
   "id": "470bdb9a",
   "metadata": {},
   "outputs": [
    {
     "name": "stderr",
     "output_type": "stream",
     "text": [
      "[I 2024-09-04 15:06:09,951] A new study created in memory with name: no-name-d1dbbc2d-e189-465c-9dfb-4cd4cbb4769c\n",
      "[I 2024-09-04 15:06:09,955] Trial 0 finished with value: 0.9508258185924522 and parameters: {'x': 0.8636142281050494, 'w': 0.4527651528187343}. Best is trial 0 with value: 0.9508258185924522.\n",
      "[I 2024-09-04 15:06:09,960] Trial 1 finished with value: 1.0 and parameters: {'x': 0.0, 'w': 1.0}. Best is trial 0 with value: 0.9508258185924522.\n",
      "[I 2024-09-04 15:06:09,964] Trial 2 finished with value: 0.15518824609733703 and parameters: {'x': 0.393939393939394, 'w': 0.0}. Best is trial 2 with value: 0.15518824609733703.\n",
      "[I 2024-09-04 15:06:09,969] Trial 3 finished with value: 0.33098239452642203 and parameters: {'x': 0.23232323232323235, 'w': 0.5263157894736842}. Best is trial 2 with value: 0.15518824609733703.\n",
      "[I 2024-09-04 15:06:09,973] Trial 4 finished with value: 1.343230282624222 and parameters: {'x': 0.5858585858585859, 'w': 1.0}. Best is trial 2 with value: 0.15518824609733703.\n",
      "[I 2024-09-04 15:06:09,975] Trial 5 finished with value: 1.0 and parameters: {'x': 1.0, 'w': 0.0}. Best is trial 2 with value: 0.15518824609733703.\n",
      "[I 2024-09-04 15:06:09,982] Trial 6 finished with value: 0.0 and parameters: {'x': 0.0, 'w': 0.0}. Best is trial 6 with value: 0.0.\n",
      "[I 2024-09-04 15:06:09,986] Trial 7 finished with value: 0.13573407202216065 and parameters: {'x': 0.0, 'w': 0.3684210526315789}. Best is trial 6 with value: 0.0.\n",
      "[I 2024-09-04 15:06:09,989] Trial 8 finished with value: 0.35479900434152095 and parameters: {'x': 0.5050505050505051, 'w': 0.3157894736842105}. Best is trial 6 with value: 0.0.\n",
      "[I 2024-09-04 15:06:09,993] Trial 9 finished with value: 2.0 and parameters: {'x': 1.0, 'w': 1.0}. Best is trial 6 with value: 0.0.\n",
      "[I 2024-09-04 15:06:10,000] Trial 10 finished with value: 0.8749341819097546 and parameters: {'x': 0.27272727272727276, 'w': 0.894736842105263}. Best is trial 6 with value: 0.0.\n",
      "[I 2024-09-04 15:06:10,004] Trial 11 finished with value: 0.8992225057028211 and parameters: {'x': 0.6565656565656566, 'w': 0.6842105263157894}. Best is trial 6 with value: 0.0.\n",
      "[I 2024-09-04 15:06:10,013] Trial 12 finished with value: 0.5552819671009883 and parameters: {'x': 0.11111111111111112, 'w': 0.7368421052631579}. Best is trial 6 with value: 0.0.\n",
      "[I 2024-09-04 15:06:10,017] Trial 13 finished with value: 0.14237254890322967 and parameters: {'x': 0.31313131313131315, 'w': 0.21052631578947367}. Best is trial 6 with value: 0.0.\n",
      "[I 2024-09-04 15:06:10,022] Trial 14 finished with value: 0.33518005540166207 and parameters: {'x': 0.0, 'w': 0.5789473684210527}. Best is trial 6 with value: 0.0.\n",
      "[I 2024-09-04 15:06:10,026] Trial 15 finished with value: 0.6747556145692635 and parameters: {'x': 0.4545454545454546, 'w': 0.6842105263157894}. Best is trial 6 with value: 0.0.\n",
      "[I 2024-09-04 15:06:10,032] Trial 16 finished with value: 0.019997959391898794 and parameters: {'x': 0.14141414141414144, 'w': 0.0}. Best is trial 6 with value: 0.0.\n",
      "[I 2024-09-04 15:06:10,037] Trial 17 finished with value: 0.5143352719110296 and parameters: {'x': 0.7171717171717172, 'w': 0.0}. Best is trial 6 with value: 0.0.\n",
      "[I 2024-09-04 15:06:10,043] Trial 18 finished with value: 1.4681440443213294 and parameters: {'x': 1.0, 'w': 0.6842105263157894}. Best is trial 6 with value: 0.0.\n",
      "[I 2024-09-04 15:06:10,052] Trial 19 finished with value: 0.035133788428508485 and parameters: {'x': 0.10101010101010102, 'w': 0.15789473684210525}. Best is trial 6 with value: 0.0.\n",
      "[I 2024-09-04 15:06:10,058] Trial 20 finished with value: 1.0261197836955414 and parameters: {'x': 0.16161616161616163, 'w': 1.0}. Best is trial 6 with value: 0.0.\n",
      "[I 2024-09-04 15:06:10,063] Trial 21 finished with value: 1.1886542189572493 and parameters: {'x': 0.43434343434343436, 'w': 1.0}. Best is trial 6 with value: 0.0.\n",
      "[I 2024-09-04 15:06:10,071] Trial 22 finished with value: 0.709141274238227 and parameters: {'x': 0.0, 'w': 0.8421052631578947}. Best is trial 6 with value: 0.0.\n",
      "[I 2024-09-04 15:06:10,077] Trial 23 finished with value: 0.33357272323107967 and parameters: {'x': 0.5555555555555556, 'w': 0.15789473684210525}. Best is trial 6 with value: 0.0.\n",
      "[I 2024-09-04 15:06:10,086] Trial 24 finished with value: 0.14807975103450632 and parameters: {'x': 0.11111111111111112, 'w': 0.3684210526315789}. Best is trial 6 with value: 0.0.\n",
      "[I 2024-09-04 15:06:10,093] Trial 25 finished with value: 0.6030398277523268 and parameters: {'x': 0.7474747474747475, 'w': 0.21052631578947367}. Best is trial 6 with value: 0.0.\n",
      "[I 2024-09-04 15:06:10,102] Trial 26 finished with value: 0.28176445334172184 and parameters: {'x': 0.32323232323232326, 'w': 0.42105263157894735}. Best is trial 6 with value: 0.0.\n",
      "[I 2024-09-04 15:06:10,109] Trial 27 finished with value: 0.8031047767470161 and parameters: {'x': 0.05050505050505051, 'w': 0.894736842105263}. Best is trial 6 with value: 0.0.\n",
      "[I 2024-09-04 15:06:10,121] Trial 28 finished with value: 0.9850314895223817 and parameters: {'x': 0.5252525252525253, 'w': 0.8421052631578947}. Best is trial 6 with value: 0.0.\n",
      "[I 2024-09-04 15:06:10,129] Trial 29 finished with value: 0.02493074792243767 and parameters: {'x': 0.0, 'w': 0.15789473684210525}. Best is trial 6 with value: 0.0.\n",
      "[I 2024-09-04 15:06:10,139] Trial 30 finished with value: 0.05674416737960767 and parameters: {'x': 0.23232323232323235, 'w': 0.05263157894736842}. Best is trial 6 with value: 0.0.\n",
      "[I 2024-09-04 15:06:10,146] Trial 31 finished with value: 0.28068140483149295 and parameters: {'x': 0.06060606060606061, 'w': 0.5263157894736842}. Best is trial 6 with value: 0.0.\n",
      "[I 2024-09-04 15:06:10,155] Trial 32 finished with value: 0.5923190041380253 and parameters: {'x': 0.22222222222222224, 'w': 0.7368421052631579}. Best is trial 6 with value: 0.0.\n",
      "[I 2024-09-04 15:06:10,162] Trial 33 finished with value: 0.005320843229010778 and parameters: {'x': 0.05050505050505051, 'w': 0.05263157894736842}. Best is trial 6 with value: 0.0.\n",
      "[I 2024-09-04 15:06:10,175] Trial 34 finished with value: 0.6961653243026533 and parameters: {'x': 0.686868686868687, 'w': 0.47368421052631576}. Best is trial 6 with value: 0.0.\n",
      "[I 2024-09-04 15:06:10,183] Trial 35 finished with value: 0.5429362880886426 and parameters: {'x': 0.0, 'w': 0.7368421052631579}. Best is trial 6 with value: 0.0.\n",
      "[I 2024-09-04 15:06:10,193] Trial 36 finished with value: 0.10230992880199628 and parameters: {'x': 0.18181818181818182, 'w': 0.2631578947368421}. Best is trial 6 with value: 0.0.\n",
      "[I 2024-09-04 15:06:10,204] Trial 37 finished with value: 1.0049994898479746 and parameters: {'x': 0.07070707070707072, 'w': 1.0}. Best is trial 6 with value: 0.0.\n",
      "[I 2024-09-04 15:06:10,213] Trial 38 finished with value: 0.06925207756232686 and parameters: {'x': 0.0, 'w': 0.2631578947368421}. Best is trial 6 with value: 0.0.\n",
      "[I 2024-09-04 15:06:10,224] Trial 39 finished with value: 0.7193443147442978 and parameters: {'x': 0.10101010101010102, 'w': 0.8421052631578947}. Best is trial 6 with value: 0.0.\n",
      "[I 2024-09-04 15:06:10,234] Trial 40 finished with value: 0.8975069252077561 and parameters: {'x': 0.0, 'w': 0.9473684210526315}. Best is trial 6 with value: 0.0.\n",
      "[I 2024-09-04 15:06:10,242] Trial 41 finished with value: 0.07292517214451236 and parameters: {'x': 0.06060606060606061, 'w': 0.2631578947368421}. Best is trial 6 with value: 0.0.\n",
      "[I 2024-09-04 15:06:10,252] Trial 42 finished with value: 0.0027700831024930744 and parameters: {'x': 0.0, 'w': 0.05263157894736842}. Best is trial 6 with value: 0.0.\n",
      "[I 2024-09-04 15:06:10,261] Trial 43 finished with value: 0.22437673130193903 and parameters: {'x': 0.0, 'w': 0.47368421052631576}. Best is trial 6 with value: 0.0.\n",
      "[I 2024-09-04 15:06:10,271] Trial 44 finished with value: 0.8266738003160397 and parameters: {'x': 0.16161616161616163, 'w': 0.894736842105263}. Best is trial 6 with value: 0.0.\n",
      "[I 2024-09-04 15:06:10,281] Trial 45 finished with value: 0.0036730945821854917 and parameters: {'x': 0.06060606060606061, 'w': 0.0}. Best is trial 6 with value: 0.0.\n",
      "[I 2024-09-04 15:06:10,293] Trial 46 finished with value: 0.39889196675900274 and parameters: {'x': 0.0, 'w': 0.631578947368421}. Best is trial 6 with value: 0.0.\n",
      "[I 2024-09-04 15:06:10,303] Trial 47 finished with value: 0.40256506134118825 and parameters: {'x': 0.06060606060606061, 'w': 0.631578947368421}. Best is trial 6 with value: 0.0.\n"
     ]
    },
    {
     "name": "stderr",
     "output_type": "stream",
     "text": [
      "[I 2024-09-04 15:06:10,313] Trial 48 finished with value: 1.0 and parameters: {'x': 0.0, 'w': 1.0}. Best is trial 6 with value: 0.0.\n",
      "[I 2024-09-04 15:06:10,325] Trial 49 finished with value: 0.0 and parameters: {'x': 0.0, 'w': 0.0}. Best is trial 6 with value: 0.0.\n",
      "[I 2024-09-04 15:06:10,336] Trial 50 finished with value: 0.011080332409972297 and parameters: {'x': 0.0, 'w': 0.10526315789473684}. Best is trial 6 with value: 0.0.\n",
      "[I 2024-09-04 15:06:10,346] Trial 51 finished with value: 0.18095841314174224 and parameters: {'x': 0.06060606060606061, 'w': 0.42105263157894735}. Best is trial 6 with value: 0.0.\n",
      "[I 2024-09-04 15:06:10,357] Trial 52 finished with value: 0.8005540166204984 and parameters: {'x': 0.0, 'w': 0.894736842105263}. Best is trial 6 with value: 0.0.\n",
      "[I 2024-09-04 15:06:10,371] Trial 53 finished with value: 0.20340510225509803 and parameters: {'x': 0.16161616161616163, 'w': 0.42105263157894735}. Best is trial 6 with value: 0.0.\n",
      "[I 2024-09-04 15:06:10,381] Trial 54 finished with value: 1.0036730945821855 and parameters: {'x': 0.06060606060606061, 'w': 1.0}. Best is trial 6 with value: 0.0.\n",
      "[I 2024-09-04 15:06:10,393] Trial 55 finished with value: 0.5429362880886426 and parameters: {'x': 0.0, 'w': 0.7368421052631579}. Best is trial 6 with value: 0.0.\n",
      "[I 2024-09-04 15:06:10,406] Trial 56 finished with value: 0.6269417926431273 and parameters: {'x': 0.06060606060606061, 'w': 0.7894736842105263}. Best is trial 6 with value: 0.0.\n",
      "[I 2024-09-04 15:06:10,417] Trial 57 finished with value: 0.09972299168975068 and parameters: {'x': 0.0, 'w': 0.3157894736842105}. Best is trial 6 with value: 0.0.\n",
      "[I 2024-09-04 15:06:10,429] Trial 58 finished with value: 0.9011800197899416 and parameters: {'x': 0.06060606060606061, 'w': 0.9473684210526315}. Best is trial 6 with value: 0.0.\n",
      "[I 2024-09-04 15:06:10,440] Trial 59 finished with value: 0.22437673130193903 and parameters: {'x': 0.0, 'w': 0.47368421052631576}. Best is trial 6 with value: 0.0.\n",
      "[I 2024-09-04 15:06:10,452] Trial 60 finished with value: 0.04799442422207468 and parameters: {'x': 0.06060606060606061, 'w': 0.21052631578947367}. Best is trial 6 with value: 0.0.\n",
      "[I 2024-09-04 15:06:10,464] Trial 61 finished with value: 0.04432132963988919 and parameters: {'x': 0.0, 'w': 0.21052631578947367}. Best is trial 6 with value: 0.0.\n",
      "[I 2024-09-04 15:06:10,534] Trial 62 finished with value: 0.034037173548631616 and parameters: {'x': 0.15151515151515152, 'w': 0.10526315789473684}. Best is trial 6 with value: 0.0.\n",
      "[I 2024-09-04 15:06:10,548] Trial 63 finished with value: 0.0 and parameters: {'x': 0.0, 'w': 0.0}. Best is trial 6 with value: 0.0.\n",
      "[I 2024-09-04 15:06:10,560] Trial 64 finished with value: 1.0 and parameters: {'x': 0.0, 'w': 1.0}. Best is trial 6 with value: 0.0.\n",
      "[I 2024-09-04 15:06:10,572] Trial 65 finished with value: 0.0036730945821854917 and parameters: {'x': 0.06060606060606061, 'w': 0.0}. Best is trial 6 with value: 0.0.\n",
      "[I 2024-09-04 15:06:10,584] Trial 66 finished with value: 0.709141274238227 and parameters: {'x': 0.0, 'w': 0.8421052631578947}. Best is trial 6 with value: 0.0.\n",
      "[I 2024-09-04 15:06:10,596] Trial 67 finished with value: 0.40256506134118825 and parameters: {'x': 0.06060606060606061, 'w': 0.631578947368421}. Best is trial 6 with value: 0.0.\n",
      "[I 2024-09-04 15:06:10,611] Trial 68 finished with value: 0.0027700831024930744 and parameters: {'x': 0.0, 'w': 0.05263157894736842}. Best is trial 6 with value: 0.0.\n",
      "[I 2024-09-04 15:06:10,624] Trial 69 finished with value: 0.006443177684678566 and parameters: {'x': 0.06060606060606061, 'w': 0.05263157894736842}. Best is trial 6 with value: 0.0.\n",
      "[I 2024-09-04 15:06:10,637] Trial 70 finished with value: 0.39889196675900274 and parameters: {'x': 0.0, 'w': 0.631578947368421}. Best is trial 6 with value: 0.0.\n",
      "[I 2024-09-04 15:06:10,650] Trial 71 finished with value: 0.10339608627193618 and parameters: {'x': 0.06060606060606061, 'w': 0.3157894736842105}. Best is trial 6 with value: 0.0.\n",
      "[I 2024-09-04 15:06:10,664] Trial 72 finished with value: 0.8975069252077561 and parameters: {'x': 0.0, 'w': 0.9473684210526315}. Best is trial 6 with value: 0.0.\n",
      "[I 2024-09-04 15:06:10,680] Trial 73 finished with value: 0.42184880789766205 and parameters: {'x': 0.15151515151515152, 'w': 0.631578947368421}. Best is trial 6 with value: 0.0.\n",
      "[I 2024-09-04 15:06:10,694] Trial 74 finished with value: 0.13573407202216065 and parameters: {'x': 0.0, 'w': 0.3684210526315789}. Best is trial 6 with value: 0.0.\n",
      "[I 2024-09-04 15:06:10,714] Trial 75 finished with value: 0.27700831024930744 and parameters: {'x': 0.0, 'w': 0.5263157894736842}. Best is trial 6 with value: 0.0.\n",
      "[I 2024-09-04 15:06:10,730] Trial 76 finished with value: 0.2280498258841245 and parameters: {'x': 0.06060606060606061, 'w': 0.47368421052631576}. Best is trial 6 with value: 0.0.\n",
      "[I 2024-09-04 15:06:10,746] Trial 77 finished with value: 0.02493074792243767 and parameters: {'x': 0.0, 'w': 0.15789473684210525}. Best is trial 6 with value: 0.0.\n",
      "[I 2024-09-04 15:06:10,761] Trial 78 finished with value: 0.5454870482151603 and parameters: {'x': 0.05050505050505051, 'w': 0.7368421052631579}. Best is trial 6 with value: 0.0.\n",
      "[I 2024-09-04 15:06:10,777] Trial 79 finished with value: 1.0918273645546372 and parameters: {'x': 0.30303030303030304, 'w': 1.0}. Best is trial 6 with value: 0.0.\n",
      "[I 2024-09-04 15:06:10,791] Trial 80 finished with value: 0.6232686980609419 and parameters: {'x': 0.0, 'w': 0.7894736842105263}. Best is trial 6 with value: 0.0.\n",
      "[I 2024-09-04 15:06:10,808] Trial 81 finished with value: 1.0036730945821855 and parameters: {'x': 0.06060606060606061, 'w': 1.0}. Best is trial 6 with value: 0.0.\n",
      "[I 2024-09-04 15:06:10,823] Trial 82 finished with value: 0.0 and parameters: {'x': 0.0, 'w': 0.0}. Best is trial 6 with value: 0.0.\n",
      "[I 2024-09-04 15:06:10,839] Trial 83 finished with value: 1.0 and parameters: {'x': 0.0, 'w': 1.0}. Best is trial 6 with value: 0.0.\n",
      "[I 2024-09-04 15:06:10,853] Trial 84 finished with value: 0.028603842504623164 and parameters: {'x': 0.06060606060606061, 'w': 0.15789473684210525}. Best is trial 6 with value: 0.0.\n",
      "[I 2024-09-04 15:06:10,870] Trial 85 finished with value: 0.06925207756232686 and parameters: {'x': 0.0, 'w': 0.2631578947368421}. Best is trial 6 with value: 0.0.\n",
      "[I 2024-09-04 15:06:10,887] Trial 86 finished with value: 0.019997959391898794 and parameters: {'x': 0.14141414141414144, 'w': 0.0}. Best is trial 6 with value: 0.0.\n",
      "[I 2024-09-04 15:06:10,905] Trial 87 finished with value: 0.4681440443213295 and parameters: {'x': 0.0, 'w': 0.6842105263157894}. Best is trial 6 with value: 0.0.\n",
      "[I 2024-09-04 15:06:10,922] Trial 88 finished with value: 0.9000576853342738 and parameters: {'x': 0.05050505050505051, 'w': 0.9473684210526315}. Best is trial 6 with value: 0.0.\n",
      "[I 2024-09-04 15:06:10,940] Trial 89 finished with value: 0.17728531855955676 and parameters: {'x': 0.0, 'w': 0.42105263157894735}. Best is trial 6 with value: 0.0.\n",
      "[I 2024-09-04 15:06:10,957] Trial 90 finished with value: 0.0036730945821854917 and parameters: {'x': 0.06060606060606061, 'w': 0.0}. Best is trial 6 with value: 0.0.\n",
      "[I 2024-09-04 15:06:10,979] Trial 91 finished with value: 0.29700626964120624 and parameters: {'x': 0.14141414141414144, 'w': 0.5263157894736842}. Best is trial 6 with value: 0.0.\n",
      "[I 2024-09-04 15:06:10,995] Trial 92 finished with value: 0.0027700831024930744 and parameters: {'x': 0.0, 'w': 0.05263157894736842}. Best is trial 6 with value: 0.0.\n",
      "[I 2024-09-04 15:06:11,013] Trial 93 finished with value: 0.13828483214867834 and parameters: {'x': 0.05050505050505051, 'w': 0.3684210526315789}. Best is trial 6 with value: 0.0.\n",
      "[I 2024-09-04 15:06:11,030] Trial 94 finished with value: 0.8975069252077561 and parameters: {'x': 0.0, 'w': 0.9473684210526315}. Best is trial 6 with value: 0.0.\n",
      "[I 2024-09-04 15:06:11,049] Trial 95 finished with value: 0.27700831024930744 and parameters: {'x': 0.0, 'w': 0.5263157894736842}. Best is trial 6 with value: 0.0.\n",
      "[I 2024-09-04 15:06:11,066] Trial 96 finished with value: 0.7116920343647447 and parameters: {'x': 0.05050505050505051, 'w': 0.8421052631578947}. Best is trial 6 with value: 0.0.\n",
      "[I 2024-09-04 15:06:11,087] Trial 97 finished with value: 0.02493074792243767 and parameters: {'x': 0.0, 'w': 0.15789473684210525}. Best is trial 6 with value: 0.0.\n"
     ]
    },
    {
     "name": "stderr",
     "output_type": "stream",
     "text": [
      "[I 2024-09-04 15:06:11,105] Trial 98 finished with value: 0.9175048845996548 and parameters: {'x': 0.14141414141414144, 'w': 0.9473684210526315}. Best is trial 6 with value: 0.0.\n",
      "[I 2024-09-04 15:06:11,124] Trial 99 finished with value: 0.0 and parameters: {'x': 0.0, 'w': 0.0}. Best is trial 6 with value: 0.0.\n"
     ]
    }
   ],
   "source": [
    "search_space = {\n",
    "    \"x\": optuna.distributions.FloatDistribution(0.0, 1.0),\n",
    "    \"w\": optuna.distributions.FloatDistribution(0.0, 1.0),\n",
    "}\n",
    "sampler = module.MeanVarianceAnalysisScalarizationSimulatorSampler(search_space)\n",
    "study = optuna.create_study(sampler=sampler)\n",
    "study.optimize(objective, n_trials=100)"
   ]
  },
  {
   "cell_type": "code",
   "execution_count": 6,
   "id": "4c43d40d",
   "metadata": {},
   "outputs": [
    {
     "name": "stdout",
     "output_type": "stream",
     "text": [
      "Best params: {'x': 0.0, 'w': 0.0}, Best value: 0.0\n"
     ]
    }
   ],
   "source": [
    "best_params = study.best_params\n",
    "best_value = study.best_value\n",
    "print(f\"Best params: {best_params}, Best value: {best_value}\")"
   ]
  },
  {
   "cell_type": "code",
   "execution_count": null,
   "id": "ca50c854",
   "metadata": {},
   "outputs": [],
   "source": []
  }
 ],
 "metadata": {
  "kernelspec": {
   "display_name": "Python 3 (ipykernel)",
   "language": "python",
   "name": "python3"
  },
  "language_info": {
   "codemirror_mode": {
    "name": "ipython",
    "version": 3
   },
   "file_extension": ".py",
   "mimetype": "text/x-python",
   "name": "python",
   "nbconvert_exporter": "python",
   "pygments_lexer": "ipython3",
   "version": "3.11.5"
  }
 },
 "nbformat": 4,
 "nbformat_minor": 5
}
