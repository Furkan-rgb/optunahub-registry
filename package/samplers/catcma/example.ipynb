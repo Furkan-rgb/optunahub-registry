{
  "nbformat": 4,
  "nbformat_minor": 0,
  "metadata": {
    "colab": {
      "provenance": []
    },
    "kernelspec": {
      "name": "python3",
      "display_name": "Python 3"
    },
    "language_info": {
      "name": "python"
    }
  },
  "cells": [
    {
      "cell_type": "markdown",
      "source": [
        "# Example usage of `CatCMASampler`\n",
        "\n",
        "This notebook demonstrates a simple usage of [`CatCmaSampler`](https://hub.optuna.org/samplers/catcma/) in [OptunaHub](https://hub.optuna.org/).  \n",
        "- `CatCmaSampler` is an implementation of the [CatCMA](https://arxiv.org/abs/2405.09962).  \n",
        "- CatCMA is an extension of the CMA-ES algorithm that can handle categorical variables efficiently in addition to continuous variables.\n",
        "\n",
        "## Step 1: Imports\n",
        "\n",
        "- `optuna`: A hyperparameter optimization framework\n",
        "- `oputnahub`: A module for loading additional components of Optuna\n",
        "- `cmaes`: A library that provides a CatCMA implementation"
      ],
      "metadata": {
        "id": "u3QqXvzOFAeE"
      }
    },
    {
      "cell_type": "code",
      "execution_count": 1,
      "metadata": {
        "id": "pws57WUlE1te"
      },
      "outputs": [],
      "source": [
        "!pip install --quiet --progress-bar off cmaes optuna optunahub numpy"
      ]
    },
    {
      "cell_type": "code",
      "source": [
        "import optuna\n",
        "import optunahub\n",
        "import numpy"
      ],
      "metadata": {
        "id": "Wx2Ov0CyF9lB"
      },
      "execution_count": 2,
      "outputs": []
    },
    {
      "cell_type": "markdown",
      "source": [
        "## Step 2: Define objective function\n",
        "\n",
        "As a demonstration, we prepare a mixed-categorical objective function."
      ],
      "metadata": {
        "id": "LdYS50siFywV"
      }
    },
    {
      "cell_type": "code",
      "source": [
        "def objective(trial: optuna.Trial) -> float:\n",
        "    x1 = trial.suggest_float(\"x1\", -1, 1)\n",
        "    x2 = trial.suggest_float(\"x2\", -1, 1)\n",
        "    x3 = trial.suggest_float(\"x3\", -1, 1)\n",
        "    X = numpy.array([x1, x2, x3])\n",
        "\n",
        "    c1 = trial.suggest_categorical(\"c1\", [0, 1, 2])\n",
        "    c2 = trial.suggest_categorical(\"c2\", [0, 1, 2])\n",
        "    c3 = trial.suggest_categorical(\"c3\", [0, 1, 2])\n",
        "    C = numpy.array([c1, c2, c3])\n",
        "\n",
        "    return sum(X**2) + len(C) - sum(C == 0)"
      ],
      "metadata": {
        "id": "lNInSywME95H"
      },
      "execution_count": 3,
      "outputs": []
    },
    {
      "cell_type": "markdown",
      "source": [
        "## Step 3: Load `CatCmaSampler`\n",
        "\n",
        "With `optunahub.load_module`, you can use modules in [Optunanub](https://hub.optuna.org/) in your code.  \n",
        "In this case, a module defined in [samplers/catcma](https://github.com/optuna/optunahub-registry/tree/main/package/samplers/catcma) is loaded, and you can instantiate `CatCmaSampler` from the module."
      ],
      "metadata": {
        "id": "yIEfLon-GlvV"
      }
    },
    {
      "cell_type": "code",
      "source": [
        "mod = optunahub.load_module(\"samplers/catcma\")\n",
        "sampler = mod.CatCmaSampler()"
      ],
      "metadata": {
        "id": "0nH6__u5F5uQ"
      },
      "execution_count": 4,
      "outputs": []
    },
    {
      "cell_type": "markdown",
      "source": [
        "## Step 4: Run optimization\n",
        "\n",
        "You can optimize the objective function with `CatCmaSampler` as usual."
      ],
      "metadata": {
        "id": "Vx2XljcNG0o_"
      }
    },
    {
      "cell_type": "code",
      "source": [
        "study = optuna.create_study(sampler=sampler)\n",
        "study.optimize(objective, n_trials=50)\n",
        "print(study.best_params)"
      ],
      "metadata": {
        "id": "zWEKYXYaG3Sg",
        "colab": {
          "base_uri": "https://localhost:8080/"
        },
        "outputId": "9d58f0f0-289f-4b64-db08-7470c5f3c083"
      },
      "execution_count": 5,
      "outputs": [
        {
          "output_type": "stream",
          "name": "stderr",
          "text": [
            "[I 2024-08-08 07:48:24,172] A new study created in memory with name: no-name-5543fb59-bd13-4909-81c2-cbab87d6fcc3\n",
            "[I 2024-08-08 07:48:24,182] Trial 0 finished with value: 2.293379091292973 and parameters: {'x1': -0.18471361944289666, 'x2': -0.00860083269280243, 'x3': 0.5091031288081702, 'c1': 1, 'c2': 0, 'c3': 1}. Best is trial 0 with value: 2.293379091292973.\n",
            "[I 2024-08-08 07:48:24,815] Trial 1 finished with value: 2.0123171848038908 and parameters: {'x1': 0.087330578418235, 'x2': 0.061154716427657574, 'x3': -0.030832702373942644, 'c1': 1, 'c2': 1, 'c3': 0}. Best is trial 1 with value: 2.0123171848038908.\n",
            "[I 2024-08-08 07:48:24,823] Trial 2 finished with value: 2.0116887090390607 and parameters: {'x1': 0.013363290644381465, 'x2': -0.0495963007654745, 'x3': -0.09513326680291656, 'c1': 2, 'c2': 0, 'c3': 1}. Best is trial 2 with value: 2.0116887090390607.\n",
            "[I 2024-08-08 07:48:24,830] Trial 3 finished with value: 2.6845576792512404 and parameters: {'x1': -0.4361307911532377, 'x2': -0.7019991240713226, 'x3': 0.03930447891000921, 'c1': 1, 'c2': 1, 'c3': 0}. Best is trial 2 with value: 2.0116887090390607.\n",
            "[I 2024-08-08 07:48:24,839] Trial 4 finished with value: 3.2374585489580783 and parameters: {'x1': 0.1448082268177846, 'x2': -0.1022363870563241, 'x3': -0.453912819344901, 'c1': 1, 'c2': 1, 'c3': 1}. Best is trial 2 with value: 2.0116887090390607.\n",
            "[I 2024-08-08 07:48:24,844] Trial 5 finished with value: 1.18525076703928 and parameters: {'x1': -0.053265028270512826, 'x2': -0.09067772491127557, 'x3': -0.4173621377263832, 'c1': 0, 'c2': 1, 'c3': 0}. Best is trial 5 with value: 1.18525076703928.\n",
            "[I 2024-08-08 07:48:24,850] Trial 6 finished with value: 3.4263066783297167 and parameters: {'x1': 0.0836498862553261, 'x2': -0.05905861499155096, 'x3': 0.6448421937609754, 'c1': 2, 'c2': 1, 'c3': 1}. Best is trial 5 with value: 1.18525076703928.\n",
            "[I 2024-08-08 07:48:24,858] Trial 7 finished with value: 1.2839572502033039 and parameters: {'x1': 0.20338961125921107, 'x2': -0.3977754426334714, 'x3': 0.29045587181683374, 'c1': 0, 'c2': 0, 'c3': 1}. Best is trial 5 with value: 1.18525076703928.\n",
            "[I 2024-08-08 07:48:24,869] Trial 8 finished with value: 1.3046673231988715 and parameters: {'x1': 0.05412453225676406, 'x2': -0.2513603427892669, 'x3': -0.4884217811274596, 'c1': 0, 'c2': 1, 'c3': 0}. Best is trial 5 with value: 1.18525076703928.\n",
            "[I 2024-08-08 07:48:24,878] Trial 9 finished with value: 1.156195899058766 and parameters: {'x1': -0.278123100187016, 'x2': 0.24229691355269134, 'x3': 0.14190012644098826, 'c1': 0, 'c2': 0, 'c3': 1}. Best is trial 9 with value: 1.156195899058766.\n",
            "[I 2024-08-08 07:48:24,887] Trial 10 finished with value: 1.065657907903307 and parameters: {'x1': 0.1776320502604356, 'x2': -0.1646221136045941, 'x3': -0.08369182956500121, 'c1': 0, 'c2': 0, 'c3': 1}. Best is trial 10 with value: 1.065657907903307.\n",
            "[I 2024-08-08 07:48:24,893] Trial 11 finished with value: 0.20616700766885687 and parameters: {'x1': 0.0443563802775393, 'x2': 0.017381098183851584, 'x3': -0.45155001563885955, 'c1': 0, 'c2': 0, 'c3': 0}. Best is trial 11 with value: 0.20616700766885687.\n",
            "[I 2024-08-08 07:48:24,901] Trial 12 finished with value: 0.23979359380095344 and parameters: {'x1': -0.4235106385389802, 'x2': -0.2094221352893071, 'x3': 0.12874277492786068, 'c1': 0, 'c2': 0, 'c3': 0}. Best is trial 11 with value: 0.20616700766885687.\n",
            "[I 2024-08-08 07:48:24,910] Trial 13 finished with value: 2.216586252098465 and parameters: {'x1': 0.008439246532170097, 'x2': 0.021101685905735357, 'x3': -0.46483303461390313, 'c1': 1, 'c2': 1, 'c3': 0}. Best is trial 11 with value: 0.20616700766885687.\n",
            "[I 2024-08-08 07:48:24,918] Trial 14 finished with value: 2.1072324621468925 and parameters: {'x1': 0.03280460581321609, 'x2': -0.3126538712513738, 'x3': -0.09167266100567406, 'c1': 0, 'c2': 1, 'c3': 1}. Best is trial 11 with value: 0.20616700766885687.\n",
            "[I 2024-08-08 07:48:24,930] Trial 15 finished with value: 3.346322698031636 and parameters: {'x1': -0.4268914026081201, 'x2': -0.17597293356122756, 'x3': -0.36485607445232926, 'c1': 2, 'c2': 1, 'c3': 1}. Best is trial 11 with value: 0.20616700766885687.\n",
            "[I 2024-08-08 07:48:24,936] Trial 16 finished with value: 1.12540251571248 and parameters: {'x1': -0.19180864941611497, 'x2': -0.21735186449332755, 'x3': -0.20339647175632136, 'c1': 0, 'c2': 2, 'c3': 0}. Best is trial 11 with value: 0.20616700766885687.\n",
            "[I 2024-08-08 07:48:24,944] Trial 17 finished with value: 1.0737535883345575 and parameters: {'x1': 0.14392795695322835, 'x2': -0.23016275427917865, 'x3': -0.007964802850644048, 'c1': 0, 'c2': 0, 'c3': 1}. Best is trial 11 with value: 0.20616700766885687.\n",
            "[I 2024-08-08 07:48:24,951] Trial 18 finished with value: 1.0712722330915305 and parameters: {'x1': -0.2050551722032008, 'x2': -0.10346957695290449, 'x3': -0.13608326895483192, 'c1': 0, 'c2': 2, 'c3': 0}. Best is trial 11 with value: 0.20616700766885687.\n",
            "[I 2024-08-08 07:48:24,956] Trial 19 finished with value: 1.1722357722970664 and parameters: {'x1': 0.07919727050340408, 'x2': -0.16581241623692566, 'x3': -0.37211531447059487, 'c1': 0, 'c2': 0, 'c3': 1}. Best is trial 11 with value: 0.20616700766885687.\n",
            "[I 2024-08-08 07:48:24,961] Trial 20 finished with value: 1.184813515834299 and parameters: {'x1': -0.3248003532640369, 'x2': -0.09775556560457455, 'x3': 0.2641251516747041, 'c1': 0, 'c2': 0, 'c3': 1}. Best is trial 11 with value: 0.20616700766885687.\n",
            "[I 2024-08-08 07:48:24,966] Trial 21 finished with value: 0.39656901162115954 and parameters: {'x1': 0.2279737540892457, 'x2': -0.4839997992517059, 'x3': -0.3321764190786636, 'c1': 0, 'c2': 0, 'c3': 0}. Best is trial 11 with value: 0.20616700766885687.\n",
            "[I 2024-08-08 07:48:24,973] Trial 22 finished with value: 0.2409276429742815 and parameters: {'x1': -0.13735179295737754, 'x2': -0.1414539541621156, 'x3': -0.44950295527123885, 'c1': 0, 'c2': 0, 'c3': 0}. Best is trial 11 with value: 0.20616700766885687.\n",
            "[I 2024-08-08 07:48:24,981] Trial 23 finished with value: 0.27770612454917787 and parameters: {'x1': 0.34308970047767917, 'x2': -0.39988346380666473, 'x3': 0.009423234545432146, 'c1': 0, 'c2': 0, 'c3': 0}. Best is trial 11 with value: 0.20616700766885687.\n",
            "[I 2024-08-08 07:48:24,986] Trial 24 finished with value: 2.407929735005274 and parameters: {'x1': 0.20590262084539734, 'x2': -0.46360878472923417, 'x3': 0.38807311225612295, 'c1': 0, 'c2': 2, 'c3': 2}. Best is trial 11 with value: 0.20616700766885687.\n",
            "[I 2024-08-08 07:48:24,991] Trial 25 finished with value: 0.506864703381932 and parameters: {'x1': 0.10456373265993113, 'x2': -0.6624664754708817, 'x3': 0.23889181248285185, 'c1': 0, 'c2': 0, 'c3': 0}. Best is trial 11 with value: 0.20616700766885687.\n",
            "[I 2024-08-08 07:48:24,996] Trial 26 finished with value: 1.1822952936672095 and parameters: {'x1': 0.13599172953489624, 'x2': -0.23254689788932748, 'x3': -0.33124535234078045, 'c1': 0, 'c2': 2, 'c3': 0}. Best is trial 11 with value: 0.20616700766885687.\n",
            "[I 2024-08-08 07:48:25,001] Trial 27 finished with value: 0.26253206652558747 and parameters: {'x1': 0.1749785393723604, 'x2': -0.4815623632193604, 'x3': -0.0035025155656459583, 'c1': 0, 'c2': 0, 'c3': 0}. Best is trial 11 with value: 0.20616700766885687.\n",
            "[I 2024-08-08 07:48:25,007] Trial 28 finished with value: 1.2289673463330333 and parameters: {'x1': -0.36618270393786956, 'x2': -0.27005455867373107, 'x3': 0.14814894197840323, 'c1': 0, 'c2': 2, 'c3': 0}. Best is trial 11 with value: 0.20616700766885687.\n",
            "[I 2024-08-08 07:48:25,014] Trial 29 finished with value: 0.25782168034695374 and parameters: {'x1': -0.14760789557402543, 'x2': -0.3539548133381313, 'x3': -0.3327905942570043, 'c1': 0, 'c2': 0, 'c3': 0}. Best is trial 11 with value: 0.20616700766885687.\n",
            "[I 2024-08-08 07:48:25,020] Trial 30 finished with value: 0.16844987347936158 and parameters: {'x1': -0.09158996977673994, 'x2': -0.22235101732828177, 'x3': -0.33259761876588323, 'c1': 0, 'c2': 0, 'c3': 0}. Best is trial 30 with value: 0.16844987347936158.\n",
            "[I 2024-08-08 07:48:25,024] Trial 31 finished with value: 0.09859051932393248 and parameters: {'x1': 0.11573223817958533, 'x2': -0.2858523264779034, 'x3': -0.05903402253824752, 'c1': 0, 'c2': 0, 'c3': 0}. Best is trial 31 with value: 0.09859051932393248.\n",
            "[I 2024-08-08 07:48:25,032] Trial 32 finished with value: 0.26764750788002 and parameters: {'x1': 0.015989525206230093, 'x2': -0.4510727868151917, 'x3': -0.2528343013882334, 'c1': 0, 'c2': 0, 'c3': 0}. Best is trial 31 with value: 0.09859051932393248.\n",
            "[I 2024-08-08 07:48:25,037] Trial 33 finished with value: 0.6464818142365472 and parameters: {'x1': 0.4086155980219368, 'x2': -0.5073177278673333, 'x3': -0.47132136624732834, 'c1': 0, 'c2': 0, 'c3': 0}. Best is trial 31 with value: 0.09859051932393248.\n",
            "[I 2024-08-08 07:48:25,043] Trial 34 finished with value: 0.17771931496006665 and parameters: {'x1': 0.11395474112304238, 'x2': -0.11634745682300662, 'x3': -0.3888404572912466, 'c1': 0, 'c2': 0, 'c3': 0}. Best is trial 31 with value: 0.09859051932393248.\n",
            "[I 2024-08-08 07:48:25,048] Trial 35 finished with value: 1.1398011220925675 and parameters: {'x1': -0.09030440541203344, 'x2': -0.20168986639517217, 'x3': -0.30160808054368227, 'c1': 0, 'c2': 0, 'c3': 1}. Best is trial 31 with value: 0.09859051932393248.\n",
            "[I 2024-08-08 07:48:25,055] Trial 36 finished with value: 0.06011569993221588 and parameters: {'x1': 0.07290482901076545, 'x2': 0.056342182786579986, 'x3': -0.22721387342759414, 'c1': 0, 'c2': 0, 'c3': 0}. Best is trial 36 with value: 0.06011569993221588.\n",
            "[I 2024-08-08 07:48:25,060] Trial 37 finished with value: 0.030162657864857945 and parameters: {'x1': 0.1004127568328399, 'x2': -0.1409722973842581, 'x3': 0.01437871692089776, 'c1': 0, 'c2': 0, 'c3': 0}. Best is trial 37 with value: 0.030162657864857945.\n",
            "[I 2024-08-08 07:48:25,064] Trial 38 finished with value: 0.2553698243375364 and parameters: {'x1': 0.14516108353625468, 'x2': -0.43304399102119584, 'x3': -0.2162660075105457, 'c1': 0, 'c2': 0, 'c3': 0}. Best is trial 37 with value: 0.030162657864857945.\n",
            "[I 2024-08-08 07:48:25,072] Trial 39 finished with value: 0.11303519952749408 and parameters: {'x1': -0.03794783292245629, 'x2': -0.19382244440948804, 'x3': -0.2720809099277538, 'c1': 0, 'c2': 0, 'c3': 0}. Best is trial 37 with value: 0.030162657864857945.\n",
            "[I 2024-08-08 07:48:25,076] Trial 40 finished with value: 1.0769799891727097 and parameters: {'x1': 0.002684558918746749, 'x2': -0.09276221474009361, 'x3': -0.26147266364313193, 'c1': 0, 'c2': 0, 'c3': 1}. Best is trial 37 with value: 0.030162657864857945.\n",
            "[I 2024-08-08 07:48:25,081] Trial 41 finished with value: 1.1154452309509195 and parameters: {'x1': 0.09661844963035482, 'x2': -0.2605769258708359, 'x3': -0.1954731998143252, 'c1': 0, 'c2': 2, 'c3': 0}. Best is trial 37 with value: 0.030162657864857945.\n",
            "[I 2024-08-08 07:48:25,088] Trial 42 finished with value: 0.1346128906956383 and parameters: {'x1': 0.12673062276537972, 'x2': -0.29866615158103804, 'x3': -0.17132066381178213, 'c1': 0, 'c2': 0, 'c3': 0}. Best is trial 37 with value: 0.030162657864857945.\n",
            "[I 2024-08-08 07:48:25,096] Trial 43 finished with value: 0.13873264905695182 and parameters: {'x1': 0.14630388737847766, 'x2': -0.1703396351666221, 'x3': -0.29717373754455423, 'c1': 0, 'c2': 0, 'c3': 0}. Best is trial 37 with value: 0.030162657864857945.\n",
            "[I 2024-08-08 07:48:25,105] Trial 44 finished with value: 1.0702607600990466 and parameters: {'x1': 0.07471123625263876, 'x2': -0.1136596267571841, 'x3': -0.22750929766070316, 'c1': 0, 'c2': 1, 'c3': 0}. Best is trial 37 with value: 0.030162657864857945.\n",
            "[I 2024-08-08 07:48:25,110] Trial 45 finished with value: 0.01970429574320942 and parameters: {'x1': 0.09724529584833341, 'x2': -0.09148293058845225, 'x3': 0.04334191492686856, 'c1': 0, 'c2': 0, 'c3': 0}. Best is trial 45 with value: 0.01970429574320942.\n",
            "[I 2024-08-08 07:48:25,115] Trial 46 finished with value: 0.11702328670478179 and parameters: {'x1': 0.07448615868554564, 'x2': -0.21363725058923788, 'x3': -0.25658180767491023, 'c1': 0, 'c2': 0, 'c3': 0}. Best is trial 45 with value: 0.01970429574320942.\n",
            "[I 2024-08-08 07:48:25,122] Trial 47 finished with value: 0.015125164428173576 and parameters: {'x1': 0.10085175870218044, 'x2': 0.06470366037437336, 'x3': -0.027704215004374033, 'c1': 0, 'c2': 0, 'c3': 0}. Best is trial 47 with value: 0.015125164428173576.\n",
            "[I 2024-08-08 07:48:25,128] Trial 48 finished with value: 0.03930662472828628 and parameters: {'x1': -0.03816903673814165, 'x2': -0.1393245609624334, 'x3': -0.13578812936112572, 'c1': 0, 'c2': 0, 'c3': 0}. Best is trial 47 with value: 0.015125164428173576.\n",
            "[I 2024-08-08 07:48:25,132] Trial 49 finished with value: 1.0577642207108497 and parameters: {'x1': 0.06768983014626007, 'x2': -0.024519285577102812, 'x3': -0.2293057178537179, 'c1': 0, 'c2': 1, 'c3': 0}. Best is trial 47 with value: 0.015125164428173576.\n"
          ]
        },
        {
          "output_type": "stream",
          "name": "stdout",
          "text": [
            "{'x1': 0.10085175870218044, 'x2': 0.06470366037437336, 'x3': -0.027704215004374033, 'c1': 0, 'c2': 0, 'c3': 0}\n"
          ]
        }
      ]
    },
    {
      "cell_type": "code",
      "source": [
        "optuna.visualization.plot_optimization_history(study)"
      ],
      "metadata": {
        "colab": {
          "base_uri": "https://localhost:8080/",
          "height": 542
        },
        "id": "NuhMdbUqG5U2",
        "outputId": "74a0af15-85cd-401a-b1ee-b452c68f31f6"
      },
      "execution_count": 6,
      "outputs": [
        {
          "output_type": "display_data",
          "data": {
            "text/html": [
              "<html>\n",
              "<head><meta charset=\"utf-8\" /></head>\n",
              "<body>\n",
              "    <div>            <script src=\"https://cdnjs.cloudflare.com/ajax/libs/mathjax/2.7.5/MathJax.js?config=TeX-AMS-MML_SVG\"></script><script type=\"text/javascript\">if (window.MathJax && window.MathJax.Hub && window.MathJax.Hub.Config) {window.MathJax.Hub.Config({SVG: {font: \"STIX-Web\"}});}</script>                <script type=\"text/javascript\">window.PlotlyConfig = {MathJaxConfig: 'local'};</script>\n",
              "        <script charset=\"utf-8\" src=\"https://cdn.plot.ly/plotly-2.24.1.min.js\"></script>                <div id=\"1cf6aa56-dc9a-4849-b889-992422112a2c\" class=\"plotly-graph-div\" style=\"height:525px; width:100%;\"></div>            <script type=\"text/javascript\">                                    window.PLOTLYENV=window.PLOTLYENV || {};                                    if (document.getElementById(\"1cf6aa56-dc9a-4849-b889-992422112a2c\")) {                    Plotly.newPlot(                        \"1cf6aa56-dc9a-4849-b889-992422112a2c\",                        [{\"mode\":\"markers\",\"name\":\"Objective Value\",\"x\":[0,1,2,3,4,5,6,7,8,9,10,11,12,13,14,15,16,17,18,19,20,21,22,23,24,25,26,27,28,29,30,31,32,33,34,35,36,37,38,39,40,41,42,43,44,45,46,47,48,49],\"y\":[2.293379091292973,2.0123171848038908,2.0116887090390607,2.6845576792512404,3.2374585489580783,1.18525076703928,3.4263066783297167,1.2839572502033039,1.3046673231988715,1.156195899058766,1.065657907903307,0.20616700766885687,0.23979359380095344,2.216586252098465,2.1072324621468925,3.346322698031636,1.12540251571248,1.0737535883345575,1.0712722330915305,1.1722357722970664,1.184813515834299,0.39656901162115954,0.2409276429742815,0.27770612454917787,2.407929735005274,0.506864703381932,1.1822952936672095,0.26253206652558747,1.2289673463330333,0.25782168034695374,0.16844987347936158,0.09859051932393248,0.26764750788002,0.6464818142365472,0.17771931496006665,1.1398011220925675,0.06011569993221588,0.030162657864857945,0.2553698243375364,0.11303519952749408,1.0769799891727097,1.1154452309509195,0.1346128906956383,0.13873264905695182,1.0702607600990466,0.01970429574320942,0.11702328670478179,0.015125164428173576,0.03930662472828628,1.0577642207108497],\"type\":\"scatter\"},{\"mode\":\"lines\",\"name\":\"Best Value\",\"x\":[0,1,2,3,4,5,6,7,8,9,10,11,12,13,14,15,16,17,18,19,20,21,22,23,24,25,26,27,28,29,30,31,32,33,34,35,36,37,38,39,40,41,42,43,44,45,46,47,48,49],\"y\":[2.293379091292973,2.0123171848038908,2.0116887090390607,2.0116887090390607,2.0116887090390607,1.18525076703928,1.18525076703928,1.18525076703928,1.18525076703928,1.156195899058766,1.065657907903307,0.20616700766885687,0.20616700766885687,0.20616700766885687,0.20616700766885687,0.20616700766885687,0.20616700766885687,0.20616700766885687,0.20616700766885687,0.20616700766885687,0.20616700766885687,0.20616700766885687,0.20616700766885687,0.20616700766885687,0.20616700766885687,0.20616700766885687,0.20616700766885687,0.20616700766885687,0.20616700766885687,0.20616700766885687,0.16844987347936158,0.09859051932393248,0.09859051932393248,0.09859051932393248,0.09859051932393248,0.09859051932393248,0.06011569993221588,0.030162657864857945,0.030162657864857945,0.030162657864857945,0.030162657864857945,0.030162657864857945,0.030162657864857945,0.030162657864857945,0.030162657864857945,0.01970429574320942,0.01970429574320942,0.015125164428173576,0.015125164428173576,0.015125164428173576],\"type\":\"scatter\"},{\"marker\":{\"color\":\"#cccccc\"},\"mode\":\"markers\",\"name\":\"Infeasible Trial\",\"showlegend\":false,\"x\":[],\"y\":[],\"type\":\"scatter\"}],                        {\"title\":{\"text\":\"Optimization History Plot\"},\"xaxis\":{\"title\":{\"text\":\"Trial\"}},\"yaxis\":{\"title\":{\"text\":\"Objective Value\"}},\"template\":{\"data\":{\"histogram2dcontour\":[{\"type\":\"histogram2dcontour\",\"colorbar\":{\"outlinewidth\":0,\"ticks\":\"\"},\"colorscale\":[[0.0,\"#0d0887\"],[0.1111111111111111,\"#46039f\"],[0.2222222222222222,\"#7201a8\"],[0.3333333333333333,\"#9c179e\"],[0.4444444444444444,\"#bd3786\"],[0.5555555555555556,\"#d8576b\"],[0.6666666666666666,\"#ed7953\"],[0.7777777777777778,\"#fb9f3a\"],[0.8888888888888888,\"#fdca26\"],[1.0,\"#f0f921\"]]}],\"choropleth\":[{\"type\":\"choropleth\",\"colorbar\":{\"outlinewidth\":0,\"ticks\":\"\"}}],\"histogram2d\":[{\"type\":\"histogram2d\",\"colorbar\":{\"outlinewidth\":0,\"ticks\":\"\"},\"colorscale\":[[0.0,\"#0d0887\"],[0.1111111111111111,\"#46039f\"],[0.2222222222222222,\"#7201a8\"],[0.3333333333333333,\"#9c179e\"],[0.4444444444444444,\"#bd3786\"],[0.5555555555555556,\"#d8576b\"],[0.6666666666666666,\"#ed7953\"],[0.7777777777777778,\"#fb9f3a\"],[0.8888888888888888,\"#fdca26\"],[1.0,\"#f0f921\"]]}],\"heatmap\":[{\"type\":\"heatmap\",\"colorbar\":{\"outlinewidth\":0,\"ticks\":\"\"},\"colorscale\":[[0.0,\"#0d0887\"],[0.1111111111111111,\"#46039f\"],[0.2222222222222222,\"#7201a8\"],[0.3333333333333333,\"#9c179e\"],[0.4444444444444444,\"#bd3786\"],[0.5555555555555556,\"#d8576b\"],[0.6666666666666666,\"#ed7953\"],[0.7777777777777778,\"#fb9f3a\"],[0.8888888888888888,\"#fdca26\"],[1.0,\"#f0f921\"]]}],\"heatmapgl\":[{\"type\":\"heatmapgl\",\"colorbar\":{\"outlinewidth\":0,\"ticks\":\"\"},\"colorscale\":[[0.0,\"#0d0887\"],[0.1111111111111111,\"#46039f\"],[0.2222222222222222,\"#7201a8\"],[0.3333333333333333,\"#9c179e\"],[0.4444444444444444,\"#bd3786\"],[0.5555555555555556,\"#d8576b\"],[0.6666666666666666,\"#ed7953\"],[0.7777777777777778,\"#fb9f3a\"],[0.8888888888888888,\"#fdca26\"],[1.0,\"#f0f921\"]]}],\"contourcarpet\":[{\"type\":\"contourcarpet\",\"colorbar\":{\"outlinewidth\":0,\"ticks\":\"\"}}],\"contour\":[{\"type\":\"contour\",\"colorbar\":{\"outlinewidth\":0,\"ticks\":\"\"},\"colorscale\":[[0.0,\"#0d0887\"],[0.1111111111111111,\"#46039f\"],[0.2222222222222222,\"#7201a8\"],[0.3333333333333333,\"#9c179e\"],[0.4444444444444444,\"#bd3786\"],[0.5555555555555556,\"#d8576b\"],[0.6666666666666666,\"#ed7953\"],[0.7777777777777778,\"#fb9f3a\"],[0.8888888888888888,\"#fdca26\"],[1.0,\"#f0f921\"]]}],\"surface\":[{\"type\":\"surface\",\"colorbar\":{\"outlinewidth\":0,\"ticks\":\"\"},\"colorscale\":[[0.0,\"#0d0887\"],[0.1111111111111111,\"#46039f\"],[0.2222222222222222,\"#7201a8\"],[0.3333333333333333,\"#9c179e\"],[0.4444444444444444,\"#bd3786\"],[0.5555555555555556,\"#d8576b\"],[0.6666666666666666,\"#ed7953\"],[0.7777777777777778,\"#fb9f3a\"],[0.8888888888888888,\"#fdca26\"],[1.0,\"#f0f921\"]]}],\"mesh3d\":[{\"type\":\"mesh3d\",\"colorbar\":{\"outlinewidth\":0,\"ticks\":\"\"}}],\"scatter\":[{\"fillpattern\":{\"fillmode\":\"overlay\",\"size\":10,\"solidity\":0.2},\"type\":\"scatter\"}],\"parcoords\":[{\"type\":\"parcoords\",\"line\":{\"colorbar\":{\"outlinewidth\":0,\"ticks\":\"\"}}}],\"scatterpolargl\":[{\"type\":\"scatterpolargl\",\"marker\":{\"colorbar\":{\"outlinewidth\":0,\"ticks\":\"\"}}}],\"bar\":[{\"error_x\":{\"color\":\"#2a3f5f\"},\"error_y\":{\"color\":\"#2a3f5f\"},\"marker\":{\"line\":{\"color\":\"#E5ECF6\",\"width\":0.5},\"pattern\":{\"fillmode\":\"overlay\",\"size\":10,\"solidity\":0.2}},\"type\":\"bar\"}],\"scattergeo\":[{\"type\":\"scattergeo\",\"marker\":{\"colorbar\":{\"outlinewidth\":0,\"ticks\":\"\"}}}],\"scatterpolar\":[{\"type\":\"scatterpolar\",\"marker\":{\"colorbar\":{\"outlinewidth\":0,\"ticks\":\"\"}}}],\"histogram\":[{\"marker\":{\"pattern\":{\"fillmode\":\"overlay\",\"size\":10,\"solidity\":0.2}},\"type\":\"histogram\"}],\"scattergl\":[{\"type\":\"scattergl\",\"marker\":{\"colorbar\":{\"outlinewidth\":0,\"ticks\":\"\"}}}],\"scatter3d\":[{\"type\":\"scatter3d\",\"line\":{\"colorbar\":{\"outlinewidth\":0,\"ticks\":\"\"}},\"marker\":{\"colorbar\":{\"outlinewidth\":0,\"ticks\":\"\"}}}],\"scattermapbox\":[{\"type\":\"scattermapbox\",\"marker\":{\"colorbar\":{\"outlinewidth\":0,\"ticks\":\"\"}}}],\"scatterternary\":[{\"type\":\"scatterternary\",\"marker\":{\"colorbar\":{\"outlinewidth\":0,\"ticks\":\"\"}}}],\"scattercarpet\":[{\"type\":\"scattercarpet\",\"marker\":{\"colorbar\":{\"outlinewidth\":0,\"ticks\":\"\"}}}],\"carpet\":[{\"aaxis\":{\"endlinecolor\":\"#2a3f5f\",\"gridcolor\":\"white\",\"linecolor\":\"white\",\"minorgridcolor\":\"white\",\"startlinecolor\":\"#2a3f5f\"},\"baxis\":{\"endlinecolor\":\"#2a3f5f\",\"gridcolor\":\"white\",\"linecolor\":\"white\",\"minorgridcolor\":\"white\",\"startlinecolor\":\"#2a3f5f\"},\"type\":\"carpet\"}],\"table\":[{\"cells\":{\"fill\":{\"color\":\"#EBF0F8\"},\"line\":{\"color\":\"white\"}},\"header\":{\"fill\":{\"color\":\"#C8D4E3\"},\"line\":{\"color\":\"white\"}},\"type\":\"table\"}],\"barpolar\":[{\"marker\":{\"line\":{\"color\":\"#E5ECF6\",\"width\":0.5},\"pattern\":{\"fillmode\":\"overlay\",\"size\":10,\"solidity\":0.2}},\"type\":\"barpolar\"}],\"pie\":[{\"automargin\":true,\"type\":\"pie\"}]},\"layout\":{\"autotypenumbers\":\"strict\",\"colorway\":[\"#636efa\",\"#EF553B\",\"#00cc96\",\"#ab63fa\",\"#FFA15A\",\"#19d3f3\",\"#FF6692\",\"#B6E880\",\"#FF97FF\",\"#FECB52\"],\"font\":{\"color\":\"#2a3f5f\"},\"hovermode\":\"closest\",\"hoverlabel\":{\"align\":\"left\"},\"paper_bgcolor\":\"white\",\"plot_bgcolor\":\"#E5ECF6\",\"polar\":{\"bgcolor\":\"#E5ECF6\",\"angularaxis\":{\"gridcolor\":\"white\",\"linecolor\":\"white\",\"ticks\":\"\"},\"radialaxis\":{\"gridcolor\":\"white\",\"linecolor\":\"white\",\"ticks\":\"\"}},\"ternary\":{\"bgcolor\":\"#E5ECF6\",\"aaxis\":{\"gridcolor\":\"white\",\"linecolor\":\"white\",\"ticks\":\"\"},\"baxis\":{\"gridcolor\":\"white\",\"linecolor\":\"white\",\"ticks\":\"\"},\"caxis\":{\"gridcolor\":\"white\",\"linecolor\":\"white\",\"ticks\":\"\"}},\"coloraxis\":{\"colorbar\":{\"outlinewidth\":0,\"ticks\":\"\"}},\"colorscale\":{\"sequential\":[[0.0,\"#0d0887\"],[0.1111111111111111,\"#46039f\"],[0.2222222222222222,\"#7201a8\"],[0.3333333333333333,\"#9c179e\"],[0.4444444444444444,\"#bd3786\"],[0.5555555555555556,\"#d8576b\"],[0.6666666666666666,\"#ed7953\"],[0.7777777777777778,\"#fb9f3a\"],[0.8888888888888888,\"#fdca26\"],[1.0,\"#f0f921\"]],\"sequentialminus\":[[0.0,\"#0d0887\"],[0.1111111111111111,\"#46039f\"],[0.2222222222222222,\"#7201a8\"],[0.3333333333333333,\"#9c179e\"],[0.4444444444444444,\"#bd3786\"],[0.5555555555555556,\"#d8576b\"],[0.6666666666666666,\"#ed7953\"],[0.7777777777777778,\"#fb9f3a\"],[0.8888888888888888,\"#fdca26\"],[1.0,\"#f0f921\"]],\"diverging\":[[0,\"#8e0152\"],[0.1,\"#c51b7d\"],[0.2,\"#de77ae\"],[0.3,\"#f1b6da\"],[0.4,\"#fde0ef\"],[0.5,\"#f7f7f7\"],[0.6,\"#e6f5d0\"],[0.7,\"#b8e186\"],[0.8,\"#7fbc41\"],[0.9,\"#4d9221\"],[1,\"#276419\"]]},\"xaxis\":{\"gridcolor\":\"white\",\"linecolor\":\"white\",\"ticks\":\"\",\"title\":{\"standoff\":15},\"zerolinecolor\":\"white\",\"automargin\":true,\"zerolinewidth\":2},\"yaxis\":{\"gridcolor\":\"white\",\"linecolor\":\"white\",\"ticks\":\"\",\"title\":{\"standoff\":15},\"zerolinecolor\":\"white\",\"automargin\":true,\"zerolinewidth\":2},\"scene\":{\"xaxis\":{\"backgroundcolor\":\"#E5ECF6\",\"gridcolor\":\"white\",\"linecolor\":\"white\",\"showbackground\":true,\"ticks\":\"\",\"zerolinecolor\":\"white\",\"gridwidth\":2},\"yaxis\":{\"backgroundcolor\":\"#E5ECF6\",\"gridcolor\":\"white\",\"linecolor\":\"white\",\"showbackground\":true,\"ticks\":\"\",\"zerolinecolor\":\"white\",\"gridwidth\":2},\"zaxis\":{\"backgroundcolor\":\"#E5ECF6\",\"gridcolor\":\"white\",\"linecolor\":\"white\",\"showbackground\":true,\"ticks\":\"\",\"zerolinecolor\":\"white\",\"gridwidth\":2}},\"shapedefaults\":{\"line\":{\"color\":\"#2a3f5f\"}},\"annotationdefaults\":{\"arrowcolor\":\"#2a3f5f\",\"arrowhead\":0,\"arrowwidth\":1},\"geo\":{\"bgcolor\":\"white\",\"landcolor\":\"#E5ECF6\",\"subunitcolor\":\"white\",\"showland\":true,\"showlakes\":true,\"lakecolor\":\"white\"},\"title\":{\"x\":0.05},\"mapbox\":{\"style\":\"light\"}}}},                        {\"responsive\": true}                    ).then(function(){\n",
              "                            \n",
              "var gd = document.getElementById('1cf6aa56-dc9a-4849-b889-992422112a2c');\n",
              "var x = new MutationObserver(function (mutations, observer) {{\n",
              "        var display = window.getComputedStyle(gd).display;\n",
              "        if (!display || display === 'none') {{\n",
              "            console.log([gd, 'removed!']);\n",
              "            Plotly.purge(gd);\n",
              "            observer.disconnect();\n",
              "        }}\n",
              "}});\n",
              "\n",
              "// Listen for the removal of the full notebook cells\n",
              "var notebookContainer = gd.closest('#notebook-container');\n",
              "if (notebookContainer) {{\n",
              "    x.observe(notebookContainer, {childList: true});\n",
              "}}\n",
              "\n",
              "// Listen for the clearing of the current output cell\n",
              "var outputEl = gd.closest('.output');\n",
              "if (outputEl) {{\n",
              "    x.observe(outputEl, {childList: true});\n",
              "}}\n",
              "\n",
              "                        })                };                            </script>        </div>\n",
              "</body>\n",
              "</html>"
            ]
          },
          "metadata": {}
        }
      ]
    }
  ]
}