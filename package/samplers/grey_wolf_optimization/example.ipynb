{
  "cells": [
    {
      "cell_type": "markdown",
      "metadata": {
        "id": "u3QqXvzOFAeE"
      },
      "source": [
        "# Example usage of `GreyWolfOptimizationSampler` 🐺\n",
        "\n",
        "This notebook demonstrates a simple usage of [`GreyWolfOptimizationSampler`](https://hub.optuna.org/samplers/grey_wolf_optimization/) in [OptunaHub](https://hub.optuna.org/).  \n",
        "- `WhaleOptimizationSampler` is an implementation of the [Grey Wolf Optimizer (GWO)](https://www.sciencedirect.com/science/article/abs/pii/S0965997813001853).  \n",
        "- GWO is a metaheuristic algorithm that is inspired by the behavior of grey wolves in leadership and hunting.\n",
        "\n",
        "## Step 1: Imports\n",
        "\n",
        "This example requires the following two modules:\n",
        "- `optuna`: A hyperparameter optimization framework\n",
        "- `oputnahub`: A module for loading additional components of Optuna"
      ]
    },
    {
      "cell_type": "code",
      "execution_count": 1,
      "metadata": {
        "id": "pws57WUlE1te"
      },
      "outputs": [],
      "source": [
        "!pip install --quiet --progress-bar off optuna optunahub"
      ]
    },
    {
      "cell_type": "code",
      "execution_count": null,
      "metadata": {
        "id": "Wx2Ov0CyF9lB"
      },
      "outputs": [],
      "source": [
        "import optuna\n",
        "import optunahub"
      ]
    },
    {
      "cell_type": "markdown",
      "metadata": {
        "id": "LdYS50siFywV"
      },
      "source": [
        "## Step 2: Define objective function\n",
        "\n",
        "As a demonstration, we use a simple quadratic function as an objective function."
      ]
    },
    {
      "cell_type": "code",
      "execution_count": null,
      "metadata": {
        "id": "lNInSywME95H"
      },
      "outputs": [],
      "source": [
        "def objective(trial: optuna.trial.Trial) -> float:\n",
        "    x = trial.suggest_float(\"x\", -10, 10)\n",
        "    y = trial.suggest_float(\"y\", -10, 10)\n",
        "    return x**2 + y**2"
      ]
    },
    {
      "cell_type": "markdown",
      "metadata": {
        "id": "yIEfLon-GlvV"
      },
      "source": [
        "## Step 3: Load `GreyWolfOptimizationSampler`\n",
        "\n",
        "With `optunahub.load_module`, you can use modules in [Optunanub](https://hub.optuna.org/) in your code.  \n",
        "In this case, a module defined in [samplers/grey_wolf_optimization](https://github.com/optuna/optunahub-registry/tree/main/package/samplers/grey_wolf_optimization) is loaded, and you can instantiate `GreyWolfOptimizationSampler` from the module."
      ]
    },
    {
      "cell_type": "code",
      "execution_count": null,
      "metadata": {
        "id": "0nH6__u5F5uQ"
      },
      "outputs": [],
      "source": [
        "mod = optunahub.load_module(\"samplers/grey_wolf_optimization\")\n",
        "sampler = mod.GreyWolfOptimizationSampler(n_trials=100)\n",
        "\n",
        "# Note: `n_trials` should match the `n_trials` passed to `study.optimize`."
      ]
    },
    {
      "cell_type": "markdown",
      "metadata": {
        "id": "Vx2XljcNG0o_"
      },
      "source": [
        "## Step 4: Run optimization\n",
        "\n",
        "You can optimize the objective function with `GreyWolfOptimizationSampler` as usual."
      ]
    },
    {
      "cell_type": "code",
      "execution_count": null,
      "metadata": {
        "id": "zWEKYXYaG3Sg"
      },
      "outputs": [],
      "source": [
        "study = optuna.create_study(sampler=sampler)\n",
        "study.optimize(objective, n_trials=sampler.n_trials)"
      ]
    },
    {
      "cell_type": "code",
      "execution_count": null,
      "metadata": {
        "colab": {
          "base_uri": "https://localhost:8080/",
          "height": 542
        },
        "id": "NuhMdbUqG5U2",
        "outputId": "c0d4fbd4-6b27-4dc3-a5f5-c05f5a857d4c"
      },
      "outputs": [
        {
          "data": {
            "text/html": [
              "<html>\n",
              "<head><meta charset=\"utf-8\" /></head>\n",
              "<body>\n",
              "    <div>            <script src=\"https://cdnjs.cloudflare.com/ajax/libs/mathjax/2.7.5/MathJax.js?config=TeX-AMS-MML_SVG\"></script><script type=\"text/javascript\">if (window.MathJax && window.MathJax.Hub && window.MathJax.Hub.Config) {window.MathJax.Hub.Config({SVG: {font: \"STIX-Web\"}});}</script>                <script type=\"text/javascript\">window.PlotlyConfig = {MathJaxConfig: 'local'};</script>\n",
              "        <script charset=\"utf-8\" src=\"https://cdn.plot.ly/plotly-2.24.1.min.js\"></script>                <div id=\"53d40c3f-4921-41c5-b92d-ca0f1d6d5c22\" class=\"plotly-graph-div\" style=\"height:525px; width:100%;\"></div>            <script type=\"text/javascript\">                                    window.PLOTLYENV=window.PLOTLYENV || {};                                    if (document.getElementById(\"53d40c3f-4921-41c5-b92d-ca0f1d6d5c22\")) {                    Plotly.newPlot(                        \"53d40c3f-4921-41c5-b92d-ca0f1d6d5c22\",                        [{\"mode\":\"markers\",\"name\":\"Objective Value\",\"x\":[0,1,2,3,4,5,6,7,8,9,10,11,12,13,14,15,16,17,18,19,20,21,22,23,24,25,26,27,28,29,30,31,32,33,34,35,36,37,38,39,40,41,42,43,44,45,46,47,48,49,50,51,52,53,54,55,56,57,58,59,60,61,62,63,64,65,66,67,68,69,70,71,72,73,74,75,76,77,78,79,80,81,82,83,84,85,86,87,88,89,90,91,92,93,94,95,96,97,98,99],\"y\":[101.6941285927179,55.5779917588629,39.807469687837454,26.838773754184242,8.500358188749885,89.9939088972329,21.908396968972543,82.9875486413966,63.88317967354973,50.744593394484404,48.517594129432055,47.997607529629704,8.482800467145488,14.11442204024524,8.500358188749885,25.012793014931553,22.31037129717699,25.8019582860625,132.7839418206261,33.837825858055794,3.90335268721583,6.856887500377782,10.53321114730149,3.3380471601573545,4.6111490809381035,18.999659606705734,86.45723515558876,9.46192961553536,132.77220234123192,23.451137731514823,3.90335268721583,0.433101394319875,8.809482475468142,3.3380471601573545,4.073865982594654,7.1142204993163345,0.5965651625875718,12.547363163053003,1.5688056386407583,1.130244831513963,3.440007036428274,0.433101394319875,0.9989338885595854,0.6505733698269246,1.0901644572761782,0.46190370929347735,0.4521394365750654,0.25143620052244575,0.4332167643655692,0.2977857077594303,3.6569055122956584,0.2529933139458506,0.18912464450212627,0.3132210917533718,4.294176301231613,0.330000549251769,0.3497818859318371,0.1338209703410117,0.28424751771573786,0.3051484037368541,0.748882149676155,0.1368474315672869,0.5461278187373165,0.17949160093277944,2.1116259869780487,0.4426995945253757,0.530536725151882,0.1338209703410117,0.017977680429539938,0.1509821724500203,0.3085598666688999,0.02804491046607273,0.0888941374920091,0.049064459944199515,0.9583659534600512,0.13199493181221908,0.021438816128653154,0.12049475968798413,0.011433856240741664,0.21316329364459569,0.04832538416209365,0.018349276790028457,0.009904487737137273,0.019011058900557015,0.3370673703561699,0.010659788562383053,0.003558767533052043,0.018368316123697936,0.011432640466058352,0.026446371759898175,0.0643444608579551,0.02799848184432832,0.09948231970011572,0.007160706757639266,0.5576200548586076,7.931294059976793e-05,0.00991842709787342,0.00031568034916618803,0.21559036151992433,0.11947141354465382],\"type\":\"scatter\"},{\"mode\":\"lines\",\"name\":\"Best Value\",\"x\":[0,1,2,3,4,5,6,7,8,9,10,11,12,13,14,15,16,17,18,19,20,21,22,23,24,25,26,27,28,29,30,31,32,33,34,35,36,37,38,39,40,41,42,43,44,45,46,47,48,49,50,51,52,53,54,55,56,57,58,59,60,61,62,63,64,65,66,67,68,69,70,71,72,73,74,75,76,77,78,79,80,81,82,83,84,85,86,87,88,89,90,91,92,93,94,95,96,97,98,99],\"y\":[101.6941285927179,55.5779917588629,39.807469687837454,26.838773754184242,8.500358188749885,8.500358188749885,8.500358188749885,8.500358188749885,8.500358188749885,8.500358188749885,8.500358188749885,8.500358188749885,8.482800467145488,8.482800467145488,8.482800467145488,8.482800467145488,8.482800467145488,8.482800467145488,8.482800467145488,8.482800467145488,3.90335268721583,3.90335268721583,3.90335268721583,3.3380471601573545,3.3380471601573545,3.3380471601573545,3.3380471601573545,3.3380471601573545,3.3380471601573545,3.3380471601573545,3.3380471601573545,0.433101394319875,0.433101394319875,0.433101394319875,0.433101394319875,0.433101394319875,0.433101394319875,0.433101394319875,0.433101394319875,0.433101394319875,0.433101394319875,0.433101394319875,0.433101394319875,0.433101394319875,0.433101394319875,0.433101394319875,0.433101394319875,0.25143620052244575,0.25143620052244575,0.25143620052244575,0.25143620052244575,0.25143620052244575,0.18912464450212627,0.18912464450212627,0.18912464450212627,0.18912464450212627,0.18912464450212627,0.1338209703410117,0.1338209703410117,0.1338209703410117,0.1338209703410117,0.1338209703410117,0.1338209703410117,0.1338209703410117,0.1338209703410117,0.1338209703410117,0.1338209703410117,0.1338209703410117,0.017977680429539938,0.017977680429539938,0.017977680429539938,0.017977680429539938,0.017977680429539938,0.017977680429539938,0.017977680429539938,0.017977680429539938,0.017977680429539938,0.017977680429539938,0.011433856240741664,0.011433856240741664,0.011433856240741664,0.011433856240741664,0.009904487737137273,0.009904487737137273,0.009904487737137273,0.009904487737137273,0.003558767533052043,0.003558767533052043,0.003558767533052043,0.003558767533052043,0.003558767533052043,0.003558767533052043,0.003558767533052043,0.003558767533052043,0.003558767533052043,7.931294059976793e-05,7.931294059976793e-05,7.931294059976793e-05,7.931294059976793e-05,7.931294059976793e-05],\"type\":\"scatter\"},{\"marker\":{\"color\":\"#cccccc\"},\"mode\":\"markers\",\"name\":\"Infeasible Trial\",\"showlegend\":false,\"x\":[],\"y\":[],\"type\":\"scatter\"}],                        {\"title\":{\"text\":\"Optimization History Plot\"},\"xaxis\":{\"title\":{\"text\":\"Trial\"}},\"yaxis\":{\"title\":{\"text\":\"Objective Value\"}},\"template\":{\"data\":{\"histogram2dcontour\":[{\"type\":\"histogram2dcontour\",\"colorbar\":{\"outlinewidth\":0,\"ticks\":\"\"},\"colorscale\":[[0.0,\"#0d0887\"],[0.1111111111111111,\"#46039f\"],[0.2222222222222222,\"#7201a8\"],[0.3333333333333333,\"#9c179e\"],[0.4444444444444444,\"#bd3786\"],[0.5555555555555556,\"#d8576b\"],[0.6666666666666666,\"#ed7953\"],[0.7777777777777778,\"#fb9f3a\"],[0.8888888888888888,\"#fdca26\"],[1.0,\"#f0f921\"]]}],\"choropleth\":[{\"type\":\"choropleth\",\"colorbar\":{\"outlinewidth\":0,\"ticks\":\"\"}}],\"histogram2d\":[{\"type\":\"histogram2d\",\"colorbar\":{\"outlinewidth\":0,\"ticks\":\"\"},\"colorscale\":[[0.0,\"#0d0887\"],[0.1111111111111111,\"#46039f\"],[0.2222222222222222,\"#7201a8\"],[0.3333333333333333,\"#9c179e\"],[0.4444444444444444,\"#bd3786\"],[0.5555555555555556,\"#d8576b\"],[0.6666666666666666,\"#ed7953\"],[0.7777777777777778,\"#fb9f3a\"],[0.8888888888888888,\"#fdca26\"],[1.0,\"#f0f921\"]]}],\"heatmap\":[{\"type\":\"heatmap\",\"colorbar\":{\"outlinewidth\":0,\"ticks\":\"\"},\"colorscale\":[[0.0,\"#0d0887\"],[0.1111111111111111,\"#46039f\"],[0.2222222222222222,\"#7201a8\"],[0.3333333333333333,\"#9c179e\"],[0.4444444444444444,\"#bd3786\"],[0.5555555555555556,\"#d8576b\"],[0.6666666666666666,\"#ed7953\"],[0.7777777777777778,\"#fb9f3a\"],[0.8888888888888888,\"#fdca26\"],[1.0,\"#f0f921\"]]}],\"heatmapgl\":[{\"type\":\"heatmapgl\",\"colorbar\":{\"outlinewidth\":0,\"ticks\":\"\"},\"colorscale\":[[0.0,\"#0d0887\"],[0.1111111111111111,\"#46039f\"],[0.2222222222222222,\"#7201a8\"],[0.3333333333333333,\"#9c179e\"],[0.4444444444444444,\"#bd3786\"],[0.5555555555555556,\"#d8576b\"],[0.6666666666666666,\"#ed7953\"],[0.7777777777777778,\"#fb9f3a\"],[0.8888888888888888,\"#fdca26\"],[1.0,\"#f0f921\"]]}],\"contourcarpet\":[{\"type\":\"contourcarpet\",\"colorbar\":{\"outlinewidth\":0,\"ticks\":\"\"}}],\"contour\":[{\"type\":\"contour\",\"colorbar\":{\"outlinewidth\":0,\"ticks\":\"\"},\"colorscale\":[[0.0,\"#0d0887\"],[0.1111111111111111,\"#46039f\"],[0.2222222222222222,\"#7201a8\"],[0.3333333333333333,\"#9c179e\"],[0.4444444444444444,\"#bd3786\"],[0.5555555555555556,\"#d8576b\"],[0.6666666666666666,\"#ed7953\"],[0.7777777777777778,\"#fb9f3a\"],[0.8888888888888888,\"#fdca26\"],[1.0,\"#f0f921\"]]}],\"surface\":[{\"type\":\"surface\",\"colorbar\":{\"outlinewidth\":0,\"ticks\":\"\"},\"colorscale\":[[0.0,\"#0d0887\"],[0.1111111111111111,\"#46039f\"],[0.2222222222222222,\"#7201a8\"],[0.3333333333333333,\"#9c179e\"],[0.4444444444444444,\"#bd3786\"],[0.5555555555555556,\"#d8576b\"],[0.6666666666666666,\"#ed7953\"],[0.7777777777777778,\"#fb9f3a\"],[0.8888888888888888,\"#fdca26\"],[1.0,\"#f0f921\"]]}],\"mesh3d\":[{\"type\":\"mesh3d\",\"colorbar\":{\"outlinewidth\":0,\"ticks\":\"\"}}],\"scatter\":[{\"fillpattern\":{\"fillmode\":\"overlay\",\"size\":10,\"solidity\":0.2},\"type\":\"scatter\"}],\"parcoords\":[{\"type\":\"parcoords\",\"line\":{\"colorbar\":{\"outlinewidth\":0,\"ticks\":\"\"}}}],\"scatterpolargl\":[{\"type\":\"scatterpolargl\",\"marker\":{\"colorbar\":{\"outlinewidth\":0,\"ticks\":\"\"}}}],\"bar\":[{\"error_x\":{\"color\":\"#2a3f5f\"},\"error_y\":{\"color\":\"#2a3f5f\"},\"marker\":{\"line\":{\"color\":\"#E5ECF6\",\"width\":0.5},\"pattern\":{\"fillmode\":\"overlay\",\"size\":10,\"solidity\":0.2}},\"type\":\"bar\"}],\"scattergeo\":[{\"type\":\"scattergeo\",\"marker\":{\"colorbar\":{\"outlinewidth\":0,\"ticks\":\"\"}}}],\"scatterpolar\":[{\"type\":\"scatterpolar\",\"marker\":{\"colorbar\":{\"outlinewidth\":0,\"ticks\":\"\"}}}],\"histogram\":[{\"marker\":{\"pattern\":{\"fillmode\":\"overlay\",\"size\":10,\"solidity\":0.2}},\"type\":\"histogram\"}],\"scattergl\":[{\"type\":\"scattergl\",\"marker\":{\"colorbar\":{\"outlinewidth\":0,\"ticks\":\"\"}}}],\"scatter3d\":[{\"type\":\"scatter3d\",\"line\":{\"colorbar\":{\"outlinewidth\":0,\"ticks\":\"\"}},\"marker\":{\"colorbar\":{\"outlinewidth\":0,\"ticks\":\"\"}}}],\"scattermapbox\":[{\"type\":\"scattermapbox\",\"marker\":{\"colorbar\":{\"outlinewidth\":0,\"ticks\":\"\"}}}],\"scatterternary\":[{\"type\":\"scatterternary\",\"marker\":{\"colorbar\":{\"outlinewidth\":0,\"ticks\":\"\"}}}],\"scattercarpet\":[{\"type\":\"scattercarpet\",\"marker\":{\"colorbar\":{\"outlinewidth\":0,\"ticks\":\"\"}}}],\"carpet\":[{\"aaxis\":{\"endlinecolor\":\"#2a3f5f\",\"gridcolor\":\"white\",\"linecolor\":\"white\",\"minorgridcolor\":\"white\",\"startlinecolor\":\"#2a3f5f\"},\"baxis\":{\"endlinecolor\":\"#2a3f5f\",\"gridcolor\":\"white\",\"linecolor\":\"white\",\"minorgridcolor\":\"white\",\"startlinecolor\":\"#2a3f5f\"},\"type\":\"carpet\"}],\"table\":[{\"cells\":{\"fill\":{\"color\":\"#EBF0F8\"},\"line\":{\"color\":\"white\"}},\"header\":{\"fill\":{\"color\":\"#C8D4E3\"},\"line\":{\"color\":\"white\"}},\"type\":\"table\"}],\"barpolar\":[{\"marker\":{\"line\":{\"color\":\"#E5ECF6\",\"width\":0.5},\"pattern\":{\"fillmode\":\"overlay\",\"size\":10,\"solidity\":0.2}},\"type\":\"barpolar\"}],\"pie\":[{\"automargin\":true,\"type\":\"pie\"}]},\"layout\":{\"autotypenumbers\":\"strict\",\"colorway\":[\"#636efa\",\"#EF553B\",\"#00cc96\",\"#ab63fa\",\"#FFA15A\",\"#19d3f3\",\"#FF6692\",\"#B6E880\",\"#FF97FF\",\"#FECB52\"],\"font\":{\"color\":\"#2a3f5f\"},\"hovermode\":\"closest\",\"hoverlabel\":{\"align\":\"left\"},\"paper_bgcolor\":\"white\",\"plot_bgcolor\":\"#E5ECF6\",\"polar\":{\"bgcolor\":\"#E5ECF6\",\"angularaxis\":{\"gridcolor\":\"white\",\"linecolor\":\"white\",\"ticks\":\"\"},\"radialaxis\":{\"gridcolor\":\"white\",\"linecolor\":\"white\",\"ticks\":\"\"}},\"ternary\":{\"bgcolor\":\"#E5ECF6\",\"aaxis\":{\"gridcolor\":\"white\",\"linecolor\":\"white\",\"ticks\":\"\"},\"baxis\":{\"gridcolor\":\"white\",\"linecolor\":\"white\",\"ticks\":\"\"},\"caxis\":{\"gridcolor\":\"white\",\"linecolor\":\"white\",\"ticks\":\"\"}},\"coloraxis\":{\"colorbar\":{\"outlinewidth\":0,\"ticks\":\"\"}},\"colorscale\":{\"sequential\":[[0.0,\"#0d0887\"],[0.1111111111111111,\"#46039f\"],[0.2222222222222222,\"#7201a8\"],[0.3333333333333333,\"#9c179e\"],[0.4444444444444444,\"#bd3786\"],[0.5555555555555556,\"#d8576b\"],[0.6666666666666666,\"#ed7953\"],[0.7777777777777778,\"#fb9f3a\"],[0.8888888888888888,\"#fdca26\"],[1.0,\"#f0f921\"]],\"sequentialminus\":[[0.0,\"#0d0887\"],[0.1111111111111111,\"#46039f\"],[0.2222222222222222,\"#7201a8\"],[0.3333333333333333,\"#9c179e\"],[0.4444444444444444,\"#bd3786\"],[0.5555555555555556,\"#d8576b\"],[0.6666666666666666,\"#ed7953\"],[0.7777777777777778,\"#fb9f3a\"],[0.8888888888888888,\"#fdca26\"],[1.0,\"#f0f921\"]],\"diverging\":[[0,\"#8e0152\"],[0.1,\"#c51b7d\"],[0.2,\"#de77ae\"],[0.3,\"#f1b6da\"],[0.4,\"#fde0ef\"],[0.5,\"#f7f7f7\"],[0.6,\"#e6f5d0\"],[0.7,\"#b8e186\"],[0.8,\"#7fbc41\"],[0.9,\"#4d9221\"],[1,\"#276419\"]]},\"xaxis\":{\"gridcolor\":\"white\",\"linecolor\":\"white\",\"ticks\":\"\",\"title\":{\"standoff\":15},\"zerolinecolor\":\"white\",\"automargin\":true,\"zerolinewidth\":2},\"yaxis\":{\"gridcolor\":\"white\",\"linecolor\":\"white\",\"ticks\":\"\",\"title\":{\"standoff\":15},\"zerolinecolor\":\"white\",\"automargin\":true,\"zerolinewidth\":2},\"scene\":{\"xaxis\":{\"backgroundcolor\":\"#E5ECF6\",\"gridcolor\":\"white\",\"linecolor\":\"white\",\"showbackground\":true,\"ticks\":\"\",\"zerolinecolor\":\"white\",\"gridwidth\":2},\"yaxis\":{\"backgroundcolor\":\"#E5ECF6\",\"gridcolor\":\"white\",\"linecolor\":\"white\",\"showbackground\":true,\"ticks\":\"\",\"zerolinecolor\":\"white\",\"gridwidth\":2},\"zaxis\":{\"backgroundcolor\":\"#E5ECF6\",\"gridcolor\":\"white\",\"linecolor\":\"white\",\"showbackground\":true,\"ticks\":\"\",\"zerolinecolor\":\"white\",\"gridwidth\":2}},\"shapedefaults\":{\"line\":{\"color\":\"#2a3f5f\"}},\"annotationdefaults\":{\"arrowcolor\":\"#2a3f5f\",\"arrowhead\":0,\"arrowwidth\":1},\"geo\":{\"bgcolor\":\"white\",\"landcolor\":\"#E5ECF6\",\"subunitcolor\":\"white\",\"showland\":true,\"showlakes\":true,\"lakecolor\":\"white\"},\"title\":{\"x\":0.05},\"mapbox\":{\"style\":\"light\"}}}},                        {\"responsive\": true}                    ).then(function(){\n",
              "                            \n",
              "var gd = document.getElementById('53d40c3f-4921-41c5-b92d-ca0f1d6d5c22');\n",
              "var x = new MutationObserver(function (mutations, observer) {{\n",
              "        var display = window.getComputedStyle(gd).display;\n",
              "        if (!display || display === 'none') {{\n",
              "            console.log([gd, 'removed!']);\n",
              "            Plotly.purge(gd);\n",
              "            observer.disconnect();\n",
              "        }}\n",
              "}});\n",
              "\n",
              "// Listen for the removal of the full notebook cells\n",
              "var notebookContainer = gd.closest('#notebook-container');\n",
              "if (notebookContainer) {{\n",
              "    x.observe(notebookContainer, {childList: true});\n",
              "}}\n",
              "\n",
              "// Listen for the clearing of the current output cell\n",
              "var outputEl = gd.closest('.output');\n",
              "if (outputEl) {{\n",
              "    x.observe(outputEl, {childList: true});\n",
              "}}\n",
              "\n",
              "                        })                };                            </script>        </div>\n",
              "</body>\n",
              "</html>"
            ]
          },
          "metadata": {},
          "output_type": "display_data"
        }
      ],
      "source": [
        "optuna.visualization.plot_optimization_history(study)"
      ]
    }
  ],
  "metadata": {
    "colab": {
      "provenance": []
    },
    "kernelspec": {
      "display_name": "Python 3",
      "name": "python3"
    },
    "language_info": {
      "name": "python"
    }
  },
  "nbformat": 4,
  "nbformat_minor": 0
}
