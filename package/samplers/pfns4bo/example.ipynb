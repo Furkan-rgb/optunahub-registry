{
 "cells": [
  {
   "cell_type": "markdown",
   "metadata": {},
   "source": [
    "# Example usage of `PFNs4BOSampler`\n",
    "\n",
    "This notebook demonstrates a simple usage of `PFNs4BOSampler` in [OptunaHub](https://hub.optuna.org/).\n",
    "This sampler uses Prior-data Fitted Networks (PFNs) as a surrogate model for Bayesian optimization.\n",
    "See the [paper](https://arxiv.org/abs/2305.17535) for more details.\n",
    "\n",
    "- Samuel Müller, Matthias Feurer, Noah Hollmann, and Frank Hutter. 2023. PFNs4BO: in-context learning for Bayesian optimization. In Proceedings of the 40th International Conference on Machine Learning (ICML'23), Vol. 202. JMLR.org, Article 1056, 25444–25470.\n",
    "\n",
    "## Step 1: Installation\n",
    "\n",
    "The dependencies of this example are listed in [`requirements.txt`](./requirements.txt). Please install them as follows:"
   ]
  },
  {
   "cell_type": "code",
   "execution_count": null,
   "metadata": {},
   "outputs": [],
   "source": [
    "%pip install -q --progress-bar off -r requirements.txt"
   ]
  },
  {
   "cell_type": "markdown",
   "metadata": {},
   "source": [
    "## Step 2: Download model checkpoint\n",
    "\n",
    "The [official repository of PFNs4BO](https://github.com/automl/PFNs4BO) provides pre-trained models of PFNs. Please download one as follows:"
   ]
  },
  {
   "cell_type": "code",
   "execution_count": null,
   "metadata": {},
   "outputs": [],
   "source": [
    "!curl -LO https://github.com/automl/PFNs4BO/raw/main/pfns4bo/final_models/hebo_morebudget_9_unused_features_3_userpriorperdim2_8.pt.gz\n",
    "!gunzip hebo_morebudget_9_unused_features_3_userpriorperdim2_8.pt.gz"
   ]
  },
  {
   "cell_type": "markdown",
   "metadata": {},
   "source": [
    "## Step 3: Define objective function\n",
    "\n",
    "As a demonstration, we use a simple quadratic function as an objective function."
   ]
  },
  {
   "cell_type": "code",
   "execution_count": null,
   "metadata": {},
   "outputs": [],
   "source": [
    "import optuna\n",
    "import optunahub\n",
    "import torch\n",
    "import warnings\n",
    "\n",
    "def objective(trial: optuna.Trial) -> float:\n",
    "    x = trial.suggest_float(\"x\", -10, 10)\n",
    "    return (x - 2) ** 2"
   ]
  },
  {
   "cell_type": "markdown",
   "metadata": {},
   "source": [
    "## Step 4: Load `PFNs4BOSampler`\n",
    "\n",
    "With `optunahub.load_module`, you can use modules in [OptunaHub](https://hub.optuna.org/) in your code.\n",
    "In this case, a module defined in [samplers/pfns4bo](https://hub.optuna.org/samplers/pfns4bo/) is loaded, and you can instantiate `PFNs4BOSampler` in it.\n",
    "\n",
    "In this example, we set the previously downloaded model to `PFNs4BOSampler`."
   ]
  },
  {
   "cell_type": "code",
   "execution_count": null,
   "metadata": {},
   "outputs": [],
   "source": [
    "module = optunahub.load_module(\"samplers/pfns4bo\")\n",
    "\n",
    "sampler = module.PFNs4BOSampler(\n",
    "    prior=torch.load(\"hebo_morebudget_9_unused_features_3_userpriorperdim2_8.pt\"),\n",
    ")"
   ]
  },
  {
   "cell_type": "markdown",
   "metadata": {},
   "source": [
    "## Step 5: Run optimization\n",
    "\n",
    "You can optimize the objective function with `PFNs4BOSampler` as usual."
   ]
  },
  {
   "cell_type": "code",
   "execution_count": null,
   "metadata": {},
   "outputs": [],
   "source": [
    "warnings.filterwarnings(\"ignore\", category=UserWarning)\n",
    "\n",
    "study = optuna.create_study(sampler=sampler)\n",
    "study.optimize(objective, n_trials=100)"
   ]
  },
  {
   "cell_type": "code",
   "execution_count": null,
   "metadata": {},
   "outputs": [],
   "source": [
    "optuna.visualization.plot_optimization_history(study)"
   ]
  }
 ],
 "metadata": {
  "kernelspec": {
   "display_name": "Python 3 (ipykernel)",
   "language": "python",
   "name": "python3"
  },
  "language_info": {
   "codemirror_mode": {
    "name": "ipython",
    "version": 3
   },
   "file_extension": ".py",
   "mimetype": "text/x-python",
   "name": "python",
   "nbconvert_exporter": "python",
   "pygments_lexer": "ipython3",
   "version": "3.11.9"
  }
 },
 "nbformat": 4,
 "nbformat_minor": 4
}
